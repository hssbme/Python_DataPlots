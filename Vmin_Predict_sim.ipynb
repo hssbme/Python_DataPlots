{
 "cells": [
  {
   "cell_type": "code",
   "execution_count": 19,
   "metadata": {},
   "outputs": [
    {
     "name": "stdout",
     "output_type": "stream",
     "text": [
      "(-18, -12, -6, 0)\n",
      "(-60, -48, -36)\n",
      "0.016613597745945834\n",
      "0.016624136259207035\n",
      "0.0863\n",
      "5.975219854532551\n"
     ]
    },
    {
     "data": {
      "image/png": "[encoded data removed]",
      "text/plain": [
       "<Figure size 432x288 with 1 Axes>"
      ]
     },
     "metadata": {
      "needs_background": "light"
     },
     "output_type": "display_data"
    }
   ],
   "source": [
    "import scipy.stats as ss\n",
    "import numpy as np\n",
    "import matplotlib.pyplot as plt\n",
    "import time\n",
    "\n",
    "def gen_num(sigma, sample_n):\n",
    "    \"\"\"Generate random Normal distribution\"\"\"\n",
    "    start_time = time.time()\n",
    "\n",
    "    #s = np.random.normal(mu,sigma, 100)\n",
    "\n",
    "    x = np.arange(-20, 21)\n",
    "    xU, xL = x + 0.5, x - 0.5 \n",
    "    prob = ss.norm.cdf(xU, scale = sigma) - ss.norm.cdf(xL, scale = sigma)\n",
    "    print(prob[10])\n",
    "    prob = prob / prob.sum() #normalize the probabilities so their sum is 1\n",
    "    print(prob[10])\n",
    "    nums = np.random.choice(x, size = sample_n, p = prob)\n",
    "    #nums.sort()\n",
    "    plt.hist(nums, bins = len(x))\n",
    "    time.sleep(0.2)\n",
    "    #print(\"--- %s seconds ---\" % (time.time() - start_time))\n",
    "    return nums\n",
    "mu = 0\n",
    "sigma = 6\n",
    "sample_n = 1000\n",
    "init_sig = (-3,-2,-1,0)\n",
    "init_sig = tuple(sigma*x for x in init_sig)\n",
    "print(init_sig)\n",
    "LSL = (-10,-8,-6)\n",
    "LSL = tuple(sigma*x for x in LSL)\n",
    "print(LSL)\n",
    "USL = 6*sigma \n",
    "nums = gen_num(sigma, sample_n)\n",
    "\n",
    "print(nums.mean())\n",
    "print(nums.std())\n",
    "\n",
    "run_time = 0.01 \n",
    "flag = 0\n"
   ]
  },
  {
   "cell_type": "code",
   "execution_count": 27,
   "metadata": {},
   "outputs": [
    {
     "name": "stdout",
     "output_type": "stream",
     "text": [
      "10000\n"
     ]
    }
   ],
   "source": [
    "def run1(flag,vmin,i):\n",
    "    \"\"\"Run data from Initial point to USL limit- Start point of Vmin Predict Algo\"\"\"\n",
    "    while i <= USL and flag == 0:\n",
    "        #print(i)\n",
    "        #time.sleep(run_time)\n",
    "        if i  == vmin:\n",
    "            flag = 1\n",
    "            #print('VMin found at '+ str(i))\n",
    "        i+=1\n",
    "    return (int(flag))\n",
    "\n",
    "\n",
    "def run2(flag,vmin,i):\n",
    "    \"\"\"Run data from LSL to Initial point- 2nd half of Vmin Predict Algo\"\"\"\n",
    "    while i>=(LSL_val_curr) and i<(init_sig_curr) and flag == 0:\n",
    "        #print(i)\n",
    "        #time.sleep(run_time)\n",
    "        if i  == vmin:\n",
    "            flag = 1\n",
    "            #print('VMin found at '+ str(i))\n",
    "        i+=1\n",
    "    return (int(flag))"
   ]
  },
  {
   "cell_type": "code",
   "execution_count": 29,
   "metadata": {},
   "outputs": [
    {
     "name": "stdout",
     "output_type": "stream",
     "text": [
      "10000\n",
      "LSL_val_curr is -60\n",
      "init_sig_curr is -18\n",
      "--- 0.042998552322387695 seconds ---\n",
      "init_sig_curr is -12\n",
      "--- 0.03199911117553711 seconds ---\n",
      "init_sig_curr is -6\n",
      "--- 0.03699946403503418 seconds ---\n",
      "init_sig_curr is 0\n",
      "--- 0.08699798583984375 seconds ---\n",
      "LSL_val_curr is -48\n",
      "init_sig_curr is -18\n",
      "--- 0.03703784942626953 seconds ---\n",
      "init_sig_curr is -12\n",
      "--- 0.030998706817626953 seconds ---\n",
      "init_sig_curr is -6\n",
      "--- 0.03900432586669922 seconds ---\n",
      "init_sig_curr is 0\n",
      "--- 0.0820155143737793 seconds ---\n",
      "LSL_val_curr is -36\n",
      "init_sig_curr is -18\n",
      "--- 0.0379638671875 seconds ---\n",
      "init_sig_curr is -12\n",
      "--- 0.029034137725830078 seconds ---\n",
      "init_sig_curr is -6\n",
      "--- 0.03300213813781738 seconds ---\n",
      "init_sig_curr is 0\n",
      "--- 0.06800007820129395 seconds ---\n"
     ]
    }
   ],
   "source": [
    "\n",
    "\"\"\"Data collection and timing loop\"\"\"\n",
    "for LSL_val_curr in LSL:\n",
    "    print('LSL_val_curr is ' + str(LSL_val_curr))\n",
    "    \n",
    "    for init_sig_curr in init_sig:\n",
    "        print('init_sig_curr is ' + str(init_sig_curr))\n",
    "        start_time = time.time()\n",
    "        \n",
    "        for vmin in nums:\n",
    "            #print('Vmin value is ' + str(vmin))\n",
    "            \n",
    "            flag = run1(0,vmin, i=init_sig_curr)\n",
    "            if flag == 0:\n",
    "                run2(0,vmin, i= LSL_val_curr)  \n",
    "                \n",
    "        print(\"--- %s seconds ---\" % (time.time() - start_time))\n",
    "       "
   ]
  },
  {
   "cell_type": "code",
   "execution_count": null,
   "metadata": {},
   "outputs": [],
   "source": [
    "\"\"\"Algo Debug workspace\"\"\"\n",
    "\n",
    "import time\n",
    "vmin = 3\n",
    "flag = 0\n",
    "print((flag))\n",
    "#for i in range (5, 10, 1):\n",
    "i = 5\n",
    "def run1(flag,vmin,i):\n",
    "    while i <=9 and flag == 0:\n",
    "        print(i)\n",
    "        time.sleep(sleep_time)\n",
    "        if i  == vmin:\n",
    "            flag = 1\n",
    "            print(i)\n",
    "        i+=1\n",
    "    return (int(flag))\n",
    "        \n",
    "def run2(flag,vmin,i):        \n",
    "    while i>=0 and i<5 and flag == 0:\n",
    "        print(i)\n",
    "        time.sleep(sleep_time)\n",
    "        if i  == vmin:\n",
    "            \n",
    "            flag = 1\n",
    "            print(i)\n",
    "        i+=1\n",
    "    return (int(flag))\n",
    "\n",
    "flag = run1(0,vmin,i)\n",
    "#print((flag))\n",
    "if flag == 0:\n",
    "    run2(0,vmin,0)\n",
    "    #print(flag)\n",
    "else:\n",
    "    print('---')"
   ]
  },
  {
   "cell_type": "code",
   "execution_count": 14,
   "metadata": {},
   "outputs": [
    {
     "name": "stdout",
     "output_type": "stream",
     "text": [
      "Help on function gen_num in module __main__:\n",
      "\n",
      "gen_num(sigma, sample_n)\n",
      "    Generate random Normal distribution\n",
      "\n"
     ]
    }
   ],
   "source": [
    "help(gen_num)"
   ]
  }
 ],
 "metadata": {
  "kernelspec": {
   "display_name": "Python 3",
   "language": "python",
   "name": "python3"
  },
  "language_info": {
   "codemirror_mode": {
    "name": "ipython",
    "version": 3
   },
   "file_extension": ".py",
   "mimetype": "text/x-python",
   "name": "python",
   "nbconvert_exporter": "python",
   "pygments_lexer": "ipython3",
   "version": "3.7.4"
  }
 },
 "nbformat": 4,
 "nbformat_minor": 2
}
