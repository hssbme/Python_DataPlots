{
 "cells": [
  {
   "cell_type": "code",
   "execution_count": 248,
   "metadata": {},
   "outputs": [
    {
     "name": "stderr",
     "output_type": "stream",
     "text": [
      "C:\\ProgramData\\Anaconda3\\lib\\site-packages\\IPython\\core\\interactiveshell.py:2728: DtypeWarning: Columns (4284,6122,6932,7019,7025,7027,7030,7035,7038,7039,7040,7041,7044,7050,7053,7056,7059,7063,7072,7073,7076,7081,7083,7086,7960,8001,8003,8009,8011) have mixed types. Specify dtype option on import or set low_memory=False.\n",
      "  interactivity=interactivity, compiler=compiler, result=result)\n"
     ]
    }
   ],
   "source": [
    "\"\"\"Compare 2 columns of comparison data based on \"\"\"\n",
    "import pandas as pd\n",
    "import matplotlib.pyplot as plt\n",
    "import numpy as np\n",
    "import os.path\n",
    "%matplotlib inline\n",
    "import csv\n",
    "#import re\n",
    "import seaborn as sns\n",
    "plt.style.use('ggplot')\n",
    "\n",
    "file_path = r'P:\\BACKUP\\VPE\\Shreyas\\Tools\\PyTools\\RunTest\\Correlation\\OX01D10'\n",
    "\n",
    "RunTest = r'1DIE_SPD_RunTest.csv'\n",
    "SLT2 = r'SLT2.csv'\n",
    "Corr = r'LookUp_Table_SPD_CSV_short.csv'\n",
    "\n",
    "rt = pd.read_csv(file_path+'\\\\'+ RunTest)\n",
    "slt2 = pd.read_csv(file_path+'\\\\'+ SLT2)\n",
    "corr = pd.read_csv(file_path+'\\\\'+ Corr)\n",
    "\n",
    "\n",
    "def remove_empty_spaces(file):\n",
    "    \"\"\" Removes all empty spaces as these are irregular in the data file\"\"\"\n",
    "    file.columns = file.columns.str.replace(' ','')\n",
    "    #global file\n",
    "    #return file\n",
    "\n",
    "remove_empty_spaces(rt)\n",
    "remove_empty_spaces(slt2)\n",
    "remove_empty_spaces(corr)\n",
    "\n",
    "\n",
    "corr['SLT2'] =corr.SLT2.str.strip()\n",
    "corr['RunTest'] =corr.RunTest.str.strip()\n",
    "\n",
    "\n",
    "\n",
    "global rt\n",
    "global slt2\n",
    "global corr\n",
    "\n"
   ]
  },
  {
   "cell_type": "code",
   "execution_count": 249,
   "metadata": {},
   "outputs": [
    {
     "name": "stderr",
     "output_type": "stream",
     "text": [
      "C:\\ProgramData\\Anaconda3\\lib\\site-packages\\ipykernel_launcher.py:20: RuntimeWarning: invalid value encountered in double_scalars\n"
     ]
    },
    {
     "name": "stdout",
     "output_type": "stream",
     "text": [
      "Issue at SLT2 parameter: RD_DC_DSNU_SPD_LOG_DCRatioR6_R1_Gr\n",
      "Issue at SLT2 parameter: RD_DC_DSNU_SPD_LOG_DCRatioR6_R2_Gb\n",
      "Issue at SLT2 parameter: RD_DC_DSNU_SPD_LOG_DCRatioR6_R2_ALL\n",
      "Issue at SLT2 parameter: RD_DC_DSNU_SPD_LOG_DCRatioR6_R3_Gb\n",
      "Issue at SLT2 parameter: RD_DC_DSNU_SPD_LOG_DCRatioR6_R4_Gb\n",
      "Issue at SLT2 parameter: RD_DC_DSNU_SPD_LOG_DCRatioR6_R5_R\n",
      "Issue at SLT2 parameter: RD_DC_DSNU_SPD_LOG_DCRatioR6_R5_Gr\n",
      "Issue at SLT2 parameter: RD_DC_DSNU_SPD_LOG_DCRatioR6_R5_Gb\n",
      "Issue at SLT2 parameter: RD_DC_DSNU_SPD_LOG_DCRatioR6_R5_B\n",
      "Issue at SLT2 parameter: RD_DC_DSNU_SPD_LOG_DCRatioR6_R6_Gr\n",
      "Issue at SLT2 parameter: RD_DC_DSNU_SPD_LOG_DCRatioR6_R7_Gb\n",
      "Issue at SLT2 parameter: RD_DC_DSNU_SPD_LOG_DCRatioR6_R8_R\n",
      "Issue at SLT2 parameter: RD_DC_DSNU_SPD_LOG_DCRatioR6_R8_B\n",
      "Issue at SLT2 parameter: RD_DC_DSNU_SPD_LOG_DCRatioR6_R9_Gr\n",
      "Issue at SLT2 parameter: RD_DC_DSNU_SPD_LOG_DCRatioR6_R10_R\n",
      "Issue at SLT2 parameter: RD_DC_DSNU_SPD_LOG_DCRatioR6_R11_ALL\n",
      "Issue at SLT2 parameter: RD_DC_DSNU_SPD_LOG_DCRatioR6_R12_R\n",
      "Issue at SLT2 parameter: RD_DC_DSNU_SPD_LOG_DCRatioR6_R12_B\n",
      "Issue at SLT2 parameter: RD_DC_DSNU_SPD_LOG_DCRatioR6_R13_B\n",
      "Issue at SLT2 parameter: RD_DC_DSNU_SPD_LOG_DCRatioR6_R14_R\n",
      "Issue at SLT2 parameter: RD_DC_DSNU_SPD_LOG_DCRatioR6_R14_B\n"
     ]
    }
   ],
   "source": [
    "for j, row in enumerate(corr.itertuples(), 1):\n",
    "    i = j-1\n",
    "    if corr.iloc[i]['Compare'] == 1:\n",
    "        try:\n",
    "            xslt2 = row.SLT2\n",
    "            xrt = row.RunTest\n",
    "            slt2 = slt2.astype({xslt2:float})\n",
    "            rt = rt.astype({xrt:float})\n",
    "\n",
    "            corr.at[i,'diff'] = slt2[xslt2].mean()-rt[xrt].mean()\n",
    "            #corr.at[i,'SLT2_Mean'] = slt2[xslt2].mean()\n",
    "            #corr.at[i,'RunTest_Mean'] = rt[xrt].mean()\n",
    "\n",
    "            corr.at[i,'SLT2_Mean'] = slt2[xslt2].median()\n",
    "            corr.at[i,'RunTest_Mean'] = rt[xrt].median()\n",
    "\n",
    "            corr.at[i,'SLT2_StDev'] = slt2[xslt2].std()\n",
    "            corr.at[i,'RunTest_StDev'] = rt[xrt].std()\n",
    "\n",
    "            corr.at[i,'Error_Rate'] = (abs(corr['SLT2_Mean'].iloc[i]) - abs(corr['RunTest_Mean'].iloc[i]) )*100/(abs(corr['SLT2_Mean'].iloc[i]))\n",
    "        except:\n",
    "            print('Issue at SLT2 parameter: ' + xslt2)\n",
    "    else:\n",
    "        pass\n",
    "try:\n",
    "    corr.to_csv(file_path +'\\\\'+'Debug.csv')\n",
    "except:\n",
    "    print('Close Debug.csv file')"
   ]
  },
  {
   "cell_type": "code",
   "execution_count": 246,
   "metadata": {},
   "outputs": [
    {
     "name": "stderr",
     "output_type": "stream",
     "text": [
      "C:\\ProgramData\\Anaconda3\\lib\\site-packages\\ipykernel_launcher.py:21: RuntimeWarning: invalid value encountered in double_scalars\n"
     ]
    },
    {
     "ename": "KeyError",
     "evalue": "'Only a column name can be used for the key in a dtype mappings argument.'",
     "output_type": "error",
     "traceback": [
      "\u001b[1;31m---------------------------------------------------------------------------\u001b[0m",
      "\u001b[1;31mKeyError\u001b[0m                                  Traceback (most recent call last)",
      "\u001b[1;32m<ipython-input-246-89fba20a7e5a>\u001b[0m in \u001b[0;36m<module>\u001b[1;34m()\u001b[0m\n\u001b[0;32m      7\u001b[0m         \u001b[0mxrt\u001b[0m \u001b[1;33m=\u001b[0m \u001b[0mrow\u001b[0m\u001b[1;33m.\u001b[0m\u001b[0mRunTest\u001b[0m\u001b[1;33m\u001b[0m\u001b[0m\n\u001b[0;32m      8\u001b[0m         \u001b[0mslt2\u001b[0m \u001b[1;33m=\u001b[0m \u001b[0mslt2\u001b[0m\u001b[1;33m.\u001b[0m\u001b[0mastype\u001b[0m\u001b[1;33m(\u001b[0m\u001b[1;33m{\u001b[0m\u001b[0mxslt2\u001b[0m\u001b[1;33m:\u001b[0m\u001b[0mfloat\u001b[0m\u001b[1;33m}\u001b[0m\u001b[1;33m)\u001b[0m\u001b[1;33m\u001b[0m\u001b[0m\n\u001b[1;32m----> 9\u001b[1;33m         \u001b[0mrt\u001b[0m \u001b[1;33m=\u001b[0m \u001b[0mrt\u001b[0m\u001b[1;33m.\u001b[0m\u001b[0mastype\u001b[0m\u001b[1;33m(\u001b[0m\u001b[1;33m{\u001b[0m\u001b[0mxrt\u001b[0m\u001b[1;33m:\u001b[0m\u001b[0mfloat\u001b[0m\u001b[1;33m}\u001b[0m\u001b[1;33m)\u001b[0m\u001b[1;33m\u001b[0m\u001b[0m\n\u001b[0m\u001b[0;32m     10\u001b[0m \u001b[1;33m\u001b[0m\u001b[0m\n\u001b[0;32m     11\u001b[0m         \u001b[0mcorr\u001b[0m\u001b[1;33m.\u001b[0m\u001b[0mat\u001b[0m\u001b[1;33m[\u001b[0m\u001b[0mi\u001b[0m\u001b[1;33m,\u001b[0m\u001b[1;34m'diff'\u001b[0m\u001b[1;33m]\u001b[0m \u001b[1;33m=\u001b[0m \u001b[0mslt2\u001b[0m\u001b[1;33m[\u001b[0m\u001b[0mxslt2\u001b[0m\u001b[1;33m]\u001b[0m\u001b[1;33m.\u001b[0m\u001b[0mmean\u001b[0m\u001b[1;33m(\u001b[0m\u001b[1;33m)\u001b[0m\u001b[1;33m-\u001b[0m\u001b[0mrt\u001b[0m\u001b[1;33m[\u001b[0m\u001b[0mxrt\u001b[0m\u001b[1;33m]\u001b[0m\u001b[1;33m.\u001b[0m\u001b[0mmean\u001b[0m\u001b[1;33m(\u001b[0m\u001b[1;33m)\u001b[0m\u001b[1;33m\u001b[0m\u001b[0m\n",
      "\u001b[1;32mC:\\ProgramData\\Anaconda3\\lib\\site-packages\\pandas\\util\\_decorators.py\u001b[0m in \u001b[0;36mwrapper\u001b[1;34m(*args, **kwargs)\u001b[0m\n\u001b[0;32m    116\u001b[0m                 \u001b[1;32melse\u001b[0m\u001b[1;33m:\u001b[0m\u001b[1;33m\u001b[0m\u001b[0m\n\u001b[0;32m    117\u001b[0m                     \u001b[0mkwargs\u001b[0m\u001b[1;33m[\u001b[0m\u001b[0mnew_arg_name\u001b[0m\u001b[1;33m]\u001b[0m \u001b[1;33m=\u001b[0m \u001b[0mnew_arg_value\u001b[0m\u001b[1;33m\u001b[0m\u001b[0m\n\u001b[1;32m--> 118\u001b[1;33m             \u001b[1;32mreturn\u001b[0m \u001b[0mfunc\u001b[0m\u001b[1;33m(\u001b[0m\u001b[1;33m*\u001b[0m\u001b[0margs\u001b[0m\u001b[1;33m,\u001b[0m \u001b[1;33m**\u001b[0m\u001b[0mkwargs\u001b[0m\u001b[1;33m)\u001b[0m\u001b[1;33m\u001b[0m\u001b[0m\n\u001b[0m\u001b[0;32m    119\u001b[0m         \u001b[1;32mreturn\u001b[0m \u001b[0mwrapper\u001b[0m\u001b[1;33m\u001b[0m\u001b[0m\n\u001b[0;32m    120\u001b[0m     \u001b[1;32mreturn\u001b[0m \u001b[0m_deprecate_kwarg\u001b[0m\u001b[1;33m\u001b[0m\u001b[0m\n",
      "\u001b[1;32mC:\\ProgramData\\Anaconda3\\lib\\site-packages\\pandas\\core\\generic.py\u001b[0m in \u001b[0;36mastype\u001b[1;34m(self, dtype, copy, errors, **kwargs)\u001b[0m\n\u001b[0;32m   3989\u001b[0m             \u001b[1;32mfor\u001b[0m \u001b[0mcol_name\u001b[0m \u001b[1;32min\u001b[0m \u001b[0mdtype\u001b[0m\u001b[1;33m.\u001b[0m\u001b[0mkeys\u001b[0m\u001b[1;33m(\u001b[0m\u001b[1;33m)\u001b[0m\u001b[1;33m:\u001b[0m\u001b[1;33m\u001b[0m\u001b[0m\n\u001b[0;32m   3990\u001b[0m                 \u001b[1;32mif\u001b[0m \u001b[0mcol_name\u001b[0m \u001b[1;32mnot\u001b[0m \u001b[1;32min\u001b[0m \u001b[0mself\u001b[0m\u001b[1;33m:\u001b[0m\u001b[1;33m\u001b[0m\u001b[0m\n\u001b[1;32m-> 3991\u001b[1;33m                     raise KeyError('Only a column name can be used for the '\n\u001b[0m\u001b[0;32m   3992\u001b[0m                                    'key in a dtype mappings argument.')\n\u001b[0;32m   3993\u001b[0m             \u001b[1;32mfrom\u001b[0m \u001b[0mpandas\u001b[0m \u001b[1;32mimport\u001b[0m \u001b[0mconcat\u001b[0m\u001b[1;33m\u001b[0m\u001b[0m\n",
      "\u001b[1;31mKeyError\u001b[0m: 'Only a column name can be used for the key in a dtype mappings argument.'"
     ]
    }
   ],
   "source": [
    "\n",
    "for j, row in enumerate(corr.itertuples(), 1):\n",
    "    i = j-1\n",
    "    if corr.iloc[i]['Compare'] == 1:\n",
    "        \n",
    "        xslt2 = row.SLT2\n",
    "        xrt = row.RunTest\n",
    "        slt2 = slt2.astype({xslt2:float})\n",
    "        rt = rt.astype({xrt:float})\n",
    "\n",
    "        corr.at[i,'diff'] = slt2[xslt2].mean()-rt[xrt].mean()\n",
    "        #corr.at[i,'SLT2_Mean'] = slt2[xslt2].mean()\n",
    "        #corr.at[i,'RunTest_Mean'] = rt[xrt].mean()\n",
    "\n",
    "        corr.at[i,'SLT2_Mean'] = slt2[xslt2].median()\n",
    "        corr.at[i,'RunTest_Mean'] = rt[xrt].median()\n",
    "\n",
    "        corr.at[i,'SLT2_StDev'] = slt2[xslt2].std()\n",
    "        corr.at[i,'RunTest_StDev'] = rt[xrt].std()\n",
    "\n",
    "        corr.at[i,'Error_Rate'] = (abs(corr['SLT2_Mean'].iloc[i]) - abs(corr['RunTest_Mean'].iloc[i]) )*100/(abs(corr['SLT2_Mean'].iloc[i]))\n",
    "    else:\n",
    "        pass\n",
    "try:\n",
    "    corr.to_csv(file_path +'\\\\'+'Debug.csv')\n",
    "except:\n",
    "    print('Close Debug.csv file')\n",
    "    "
   ]
  },
  {
   "cell_type": "code",
   "execution_count": 209,
   "metadata": {
    "scrolled": true
   },
   "outputs": [
    {
     "name": "stderr",
     "output_type": "stream",
     "text": [
      "C:\\ProgramData\\Anaconda3\\lib\\site-packages\\ipykernel_launcher.py:24: RuntimeWarning: invalid value encountered in double_scalars\n",
      "C:\\ProgramData\\Anaconda3\\lib\\site-packages\\ipykernel_launcher.py:24: RuntimeWarning: divide by zero encountered in double_scalars\n"
     ]
    }
   ],
   "source": [
    "for j, row in enumerate(corr.itertuples(), 1):\n",
    "    \n",
    "    i = j-1\n",
    "    xslt2 = row.SLT2\n",
    "    xrt = row.RunTest\n",
    "    \n",
    "    slt2 = slt2.astype({xslt2:float})\n",
    "    rt = rt.astype({xrt:float})\n",
    "    \n",
    "    corr.at[i,'diff'] = slt2[xslt2].mean()-rt[xrt].mean()\n",
    "\n",
    "    #corr.at[i,'SLT2_Mean'] = slt2[xslt2].mean()\n",
    "    #corr.at[i,'RunTest_Mean'] = rt[xrt].mean()\n",
    "    \n",
    "    corr.at[i,'SLT2_Mean'] = slt2[xslt2].median()\n",
    "    corr.at[i,'RunTest_Mean'] = rt[xrt].median()\n",
    "    \n",
    "    corr.at[i,'SLT2_StDev'] = slt2[xslt2].std()\n",
    "    corr.at[i,'RunTest_StDev'] = rt[xrt].std()\n",
    "\n",
    "    corr.at[i,'Error_Rate'] = (abs(corr['SLT2_Mean'].iloc[i]) - abs(corr['RunTest_Mean'].iloc[i]) )*100/(abs(corr['SLT2_Mean'].iloc[i]))\n",
    "try:\n",
    "    corr.to_csv(file_path +'\\\\'+'Debug.csv')\n",
    "except:\n",
    "    print('Close Debug.csv file')\n",
    "    "
   ]
  }
 ],
 "metadata": {
  "kernelspec": {
   "display_name": "Python 3",
   "language": "python",
   "name": "python3"
  },
  "language_info": {
   "codemirror_mode": {
    "name": "ipython",
    "version": 3
   },
   "file_extension": ".py",
   "mimetype": "text/x-python",
   "name": "python",
   "nbconvert_exporter": "python",
   "pygments_lexer": "ipython3",
   "version": "3.6.4"
  }
 },
 "nbformat": 4,
 "nbformat_minor": 2
}
