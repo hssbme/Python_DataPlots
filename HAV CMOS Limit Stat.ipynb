{
 "cells": [
  {
   "cell_type": "code",
   "execution_count": 20,
   "metadata": {
    "scrolled": false
   },
   "outputs": [
    {
     "ename": "TypeError",
     "evalue": "data type \"min5Sig\" not understood",
     "output_type": "error",
     "traceback": [
      "\u001b[1;31m---------------------------------------------------------------------------\u001b[0m",
      "\u001b[1;31mTypeError\u001b[0m                                 Traceback (most recent call last)",
      "\u001b[1;32m<ipython-input-20-33d64ccc48b9>\u001b[0m in \u001b[0;36m<module>\u001b[1;34m()\u001b[0m\n\u001b[0;32m     13\u001b[0m \u001b[0mparameters\u001b[0m \u001b[1;33m=\u001b[0m \u001b[1;33m[\u001b[0m\u001b[1;34m'check cp25Rdiv'\u001b[0m\u001b[1;33m,\u001b[0m\u001b[1;34m'check gdc2vdcp'\u001b[0m\u001b[1;33m,\u001b[0m\u001b[1;34m'check gdc2vdcn'\u001b[0m\u001b[1;33m,\u001b[0m\u001b[1;34m'check vpmomcapcorrectionfactor'\u001b[0m\u001b[1;33m,\u001b[0m\u001b[1;34m'check gyro_dc2v_gain_trim_d2a_code'\u001b[0m\u001b[1;33m,\u001b[0m\u001b[1;34m'check gDriveFreq'\u001b[0m\u001b[1;33m,\u001b[0m\u001b[1;34m'check gdrivegap'\u001b[0m\u001b[1;33m,\u001b[0m\u001b[1;34m'check gyro_drv_agc_amp_trim_d2a_code'\u001b[0m\u001b[1;33m,\u001b[0m\u001b[1;34m'check gyro_dc2v_gain_trim_d2a_code'\u001b[0m\u001b[1;33m,\u001b[0m\u001b[1;34m'check gyro_drv_agc_amp_trim_d2a_code'\u001b[0m\u001b[1;33m,\u001b[0m\u001b[1;34m'check gyro_dc2v_gain_trim_d2a_code'\u001b[0m\u001b[1;33m,\u001b[0m\u001b[1;34m'check gDriveFreq'\u001b[0m\u001b[1;33m,\u001b[0m\u001b[1;34m'check gDriveampl'\u001b[0m\u001b[1;33m,\u001b[0m\u001b[1;34m'check gDriveVolPeak'\u001b[0m\u001b[1;33m,\u001b[0m\u001b[1;34m'check gmechampl'\u001b[0m\u001b[1;33m,\u001b[0m\u001b[1;34m'check gvelocity'\u001b[0m\u001b[1;33m,\u001b[0m\u001b[1;34m'check gDriveCtrlVolAC'\u001b[0m\u001b[1;33m,\u001b[0m\u001b[1;34m'check gDriveCtrlVolDC'\u001b[0m\u001b[1;33m,\u001b[0m\u001b[1;34m'check gDrive2ndHarmonic'\u001b[0m\u001b[1;33m,\u001b[0m\u001b[1;34m'check gDrive3rdHarmonic'\u001b[0m\u001b[1;33m,\u001b[0m\u001b[1;34m'check gfomp'\u001b[0m\u001b[1;33m,\u001b[0m\u001b[1;34m'check gfompfromotp'\u001b[0m\u001b[1;33m,\u001b[0m\u001b[1;34m'check gfompdelta'\u001b[0m\u001b[1;33m,\u001b[0m\u001b[1;34m'check dvdd'\u001b[0m\u001b[1;33m,\u001b[0m\u001b[1;34m'check vrefbg'\u001b[0m\u001b[1;33m,\u001b[0m\u001b[1;34m'check ibpctat310n'\u001b[0m\u001b[1;33m,\u001b[0m\u001b[1;34m'check ibpptat250n'\u001b[0m\u001b[1;33m,\u001b[0m\u001b[1;34m'check ibpvbgr250n'\u001b[0m\u001b[1;33m,\u001b[0m\u001b[1;34m'check avddaccel1p5v'\u001b[0m\u001b[1;33m,\u001b[0m\u001b[1;34m'check avref0p7v'\u001b[0m\u001b[1;33m,\u001b[0m\u001b[1;34m'check axbias'\u001b[0m\u001b[1;33m,\u001b[0m\u001b[1;34m'check aybias'\u001b[0m\u001b[1;33m,\u001b[0m\u001b[1;34m'check azbias'\u001b[0m\u001b[1;33m,\u001b[0m\u001b[1;34m'check axptatbias'\u001b[0m\u001b[1;33m,\u001b[0m\u001b[1;34m'check ayptatbias'\u001b[0m\u001b[1;33m,\u001b[0m\u001b[1;34m'check azptatbias'\u001b[0m\u001b[1;33m,\u001b[0m\u001b[1;34m'check axibp200n'\u001b[0m\u001b[1;33m,\u001b[0m\u001b[1;34m'check ayibp200n'\u001b[0m\u001b[1;33m,\u001b[0m\u001b[1;34m'check azibp200n'\u001b[0m\u001b[1;33m,\u001b[0m\u001b[1;34m'check acp'\u001b[0m\u001b[1;33m,\u001b[0m\u001b[1;34m'check ast3p3v'\u001b[0m\u001b[1;33m,\u001b[0m\u001b[1;34m'check avrefshieldxy'\u001b[0m\u001b[1;33m,\u001b[0m\u001b[1;34m'check avrefshieldz'\u001b[0m\u001b[1;33m,\u001b[0m\u001b[1;34m'check avdrive'\u001b[0m\u001b[1;33m,\u001b[0m\u001b[1;34m'check tsenseavdd'\u001b[0m\u001b[1;33m,\u001b[0m\u001b[1;34m'check tsensevcm'\u001b[0m\u001b[1;33m,\u001b[0m\u001b[1;34m'check tsensedvbe'\u001b[0m\u001b[1;33m,\u001b[0m\u001b[1;34m'check tsensevbep'\u001b[0m\u001b[1;33m,\u001b[0m\u001b[1;34m'check tsensevbem'\u001b[0m\u001b[1;33m,\u001b[0m\u001b[1;34m'check gyroavdd'\u001b[0m\u001b[1;33m,\u001b[0m\u001b[1;34m'check gyrocp25vavdd'\u001b[0m\u001b[1;33m,\u001b[0m\u001b[1;34m'check gyrodrv6vcp'\u001b[0m\u001b[1;33m,\u001b[0m\u001b[1;34m'check gyrodrv3vcp'\u001b[0m\u001b[1;33m,\u001b[0m\u001b[1;34m'check gyrodrvm3vcp'\u001b[0m\u001b[1;33m,\u001b[0m\u001b[1;34m'check gyrovbg'\u001b[0m\u001b[1;33m]\u001b[0m\u001b[1;31m#,'check gyroadcvcm','check gyrocp25vref','check gyrodrvref','check gyroadciref']\u001b[0m\u001b[1;33m\u001b[0m\u001b[0m\n\u001b[0;32m     14\u001b[0m \u001b[0mparameter\u001b[0m \u001b[1;33m=\u001b[0m \u001b[1;33m[\u001b[0m\u001b[1;34m'check cp25Rdiv'\u001b[0m\u001b[1;33m,\u001b[0m\u001b[1;34m'check gdc2vdcp'\u001b[0m\u001b[1;33m]\u001b[0m\u001b[1;33m\u001b[0m\u001b[0m\n\u001b[1;32m---> 15\u001b[1;33m \u001b[0mStats1\u001b[0m \u001b[1;33m=\u001b[0m \u001b[0mpd\u001b[0m\u001b[1;33m.\u001b[0m\u001b[0mDataFrame\u001b[0m\u001b[1;33m(\u001b[0m\u001b[1;34m'currentParam'\u001b[0m\u001b[1;33m,\u001b[0m\u001b[1;34m'Average'\u001b[0m\u001b[1;33m,\u001b[0m\u001b[1;34m'StdDev'\u001b[0m\u001b[1;33m,\u001b[0m\u001b[1;34m'min5Sig'\u001b[0m\u001b[1;33m,\u001b[0m\u001b[1;34m'plus5Sig'\u001b[0m\u001b[1;33m)\u001b[0m\u001b[1;33m\u001b[0m\u001b[0m\n\u001b[0m\u001b[0;32m     16\u001b[0m \u001b[1;32mfor\u001b[0m \u001b[0mcurrentParam\u001b[0m \u001b[1;32min\u001b[0m \u001b[0mparameter\u001b[0m\u001b[1;33m:\u001b[0m\u001b[1;33m\u001b[0m\u001b[0m\n\u001b[0;32m     17\u001b[0m     \u001b[0mAvg\u001b[0m \u001b[1;33m=\u001b[0m \u001b[0mPASS_DF\u001b[0m\u001b[1;33m[\u001b[0m\u001b[0mcurrentParam\u001b[0m\u001b[1;33m]\u001b[0m\u001b[1;33m.\u001b[0m\u001b[0mmean\u001b[0m\u001b[1;33m(\u001b[0m\u001b[1;33m)\u001b[0m\u001b[1;33m\u001b[0m\u001b[0m\n",
      "\u001b[1;32mC:\\Users\\sbharadwaj\\AppData\\Local\\Continuum\\Anaconda3\\lib\\site-packages\\pandas\\core\\frame.py\u001b[0m in \u001b[0;36m__init__\u001b[1;34m(self, data, index, columns, dtype, copy)\u001b[0m\n\u001b[0;32m    264\u001b[0m             \u001b[0mdata\u001b[0m \u001b[1;33m=\u001b[0m \u001b[1;33m{\u001b[0m\u001b[1;33m}\u001b[0m\u001b[1;33m\u001b[0m\u001b[0m\n\u001b[0;32m    265\u001b[0m         \u001b[1;32mif\u001b[0m \u001b[0mdtype\u001b[0m \u001b[1;32mis\u001b[0m \u001b[1;32mnot\u001b[0m \u001b[1;32mNone\u001b[0m\u001b[1;33m:\u001b[0m\u001b[1;33m\u001b[0m\u001b[0m\n\u001b[1;32m--> 266\u001b[1;33m             \u001b[0mdtype\u001b[0m \u001b[1;33m=\u001b[0m \u001b[0mself\u001b[0m\u001b[1;33m.\u001b[0m\u001b[0m_validate_dtype\u001b[0m\u001b[1;33m(\u001b[0m\u001b[0mdtype\u001b[0m\u001b[1;33m)\u001b[0m\u001b[1;33m\u001b[0m\u001b[0m\n\u001b[0m\u001b[0;32m    267\u001b[0m \u001b[1;33m\u001b[0m\u001b[0m\n\u001b[0;32m    268\u001b[0m         \u001b[1;32mif\u001b[0m \u001b[0misinstance\u001b[0m\u001b[1;33m(\u001b[0m\u001b[0mdata\u001b[0m\u001b[1;33m,\u001b[0m \u001b[0mDataFrame\u001b[0m\u001b[1;33m)\u001b[0m\u001b[1;33m:\u001b[0m\u001b[1;33m\u001b[0m\u001b[0m\n",
      "\u001b[1;32mC:\\Users\\sbharadwaj\\AppData\\Local\\Continuum\\Anaconda3\\lib\\site-packages\\pandas\\core\\generic.py\u001b[0m in \u001b[0;36m_validate_dtype\u001b[1;34m(self, dtype)\u001b[0m\n\u001b[0;32m    145\u001b[0m \u001b[1;33m\u001b[0m\u001b[0m\n\u001b[0;32m    146\u001b[0m         \u001b[1;32mif\u001b[0m \u001b[0mdtype\u001b[0m \u001b[1;32mis\u001b[0m \u001b[1;32mnot\u001b[0m \u001b[1;32mNone\u001b[0m\u001b[1;33m:\u001b[0m\u001b[1;33m\u001b[0m\u001b[0m\n\u001b[1;32m--> 147\u001b[1;33m             \u001b[0mdtype\u001b[0m \u001b[1;33m=\u001b[0m \u001b[0mpandas_dtype\u001b[0m\u001b[1;33m(\u001b[0m\u001b[0mdtype\u001b[0m\u001b[1;33m)\u001b[0m\u001b[1;33m\u001b[0m\u001b[0m\n\u001b[0m\u001b[0;32m    148\u001b[0m \u001b[1;33m\u001b[0m\u001b[0m\n\u001b[0;32m    149\u001b[0m             \u001b[1;31m# a compound dtype\u001b[0m\u001b[1;33m\u001b[0m\u001b[1;33m\u001b[0m\u001b[0m\n",
      "\u001b[1;32mC:\\Users\\sbharadwaj\\AppData\\Local\\Continuum\\Anaconda3\\lib\\site-packages\\pandas\\core\\dtypes\\common.py\u001b[0m in \u001b[0;36mpandas_dtype\u001b[1;34m(dtype)\u001b[0m\n\u001b[0;32m   1895\u001b[0m \u001b[1;33m\u001b[0m\u001b[0m\n\u001b[0;32m   1896\u001b[0m     \u001b[1;32mtry\u001b[0m\u001b[1;33m:\u001b[0m\u001b[1;33m\u001b[0m\u001b[0m\n\u001b[1;32m-> 1897\u001b[1;33m         \u001b[0mnpdtype\u001b[0m \u001b[1;33m=\u001b[0m \u001b[0mnp\u001b[0m\u001b[1;33m.\u001b[0m\u001b[0mdtype\u001b[0m\u001b[1;33m(\u001b[0m\u001b[0mdtype\u001b[0m\u001b[1;33m)\u001b[0m\u001b[1;33m\u001b[0m\u001b[0m\n\u001b[0m\u001b[0;32m   1898\u001b[0m     \u001b[1;32mexcept\u001b[0m \u001b[1;33m(\u001b[0m\u001b[0mTypeError\u001b[0m\u001b[1;33m,\u001b[0m \u001b[0mValueError\u001b[0m\u001b[1;33m)\u001b[0m\u001b[1;33m:\u001b[0m\u001b[1;33m\u001b[0m\u001b[0m\n\u001b[0;32m   1899\u001b[0m         \u001b[1;32mraise\u001b[0m\u001b[1;33m\u001b[0m\u001b[0m\n",
      "\u001b[1;31mTypeError\u001b[0m: data type \"min5Sig\" not understood"
     ]
    }
   ],
   "source": [
    "import pandas as pd\n",
    "import matplotlib.pyplot as plt\n",
    "import numpy as np\n",
    "import os.path\n",
    "%matplotlib inline\n",
    "\n",
    "\n",
    "location = r'C:\\Users\\sbharadwaj\\Desktop\\temp\\bin9.csv'\n",
    "df = pd.read_csv(location)#, sheetname = 'bin9', header = 0, index_col =0 )\n",
    "df.head()\n",
    "#print (df.head()) \n",
    "PASS_DF = df.loc[df['verdict'] == 'PASS']\n",
    "parameters = ['check cp25Rdiv','check gdc2vdcp','check gdc2vdcn','check vpmomcapcorrectionfactor','check gyro_dc2v_gain_trim_d2a_code','check gDriveFreq','check gdrivegap','check gyro_drv_agc_amp_trim_d2a_code','check gyro_dc2v_gain_trim_d2a_code','check gyro_drv_agc_amp_trim_d2a_code','check gyro_dc2v_gain_trim_d2a_code','check gDriveFreq','check gDriveampl','check gDriveVolPeak','check gmechampl','check gvelocity','check gDriveCtrlVolAC','check gDriveCtrlVolDC','check gDrive2ndHarmonic','check gDrive3rdHarmonic','check gfomp','check gfompfromotp','check gfompdelta','check dvdd','check vrefbg','check ibpctat310n','check ibpptat250n','check ibpvbgr250n','check avddaccel1p5v','check avref0p7v','check axbias','check aybias','check azbias','check axptatbias','check ayptatbias','check azptatbias','check axibp200n','check ayibp200n','check azibp200n','check acp','check ast3p3v','check avrefshieldxy','check avrefshieldz','check avdrive','check tsenseavdd','check tsensevcm','check tsensedvbe','check tsensevbep','check tsensevbem','check gyroavdd','check gyrocp25vavdd','check gyrodrv6vcp','check gyrodrv3vcp','check gyrodrvm3vcp','check gyrovbg']#,'check gyroadcvcm','check gyrocp25vref','check gyrodrvref','check gyroadciref']\n",
    "parameter = ['check cp25Rdiv','check gdc2vdcp']\n",
    "Stats1 = pd.DataFrame('currentParam','Average','StdDev','min5Sig','plus5Sig')\n",
    "for currentParam in parameter:\n",
    "    Avg = PASS_DF[currentParam].mean()\n",
    "    Std_Dev = PASS_DF[currentParam].std()\n",
    "    min5Sig = Avg - (5*Std_Dev)\n",
    "    plus5Sig = Avg + (5*Std_Dev)\n",
    "    #Stats = pd.Stats\n",
    "    Stats = pd.DataFrame({'currentParam':currentParam,'Average':Avg,'StdDev':Std_Dev,'min5Sig':min5Sig,'plus5Sig':plus5Sig},index=[0])\n",
    "    Stats1= pd.merge(Stats1,Stats)\n",
    "    #Stats[currentParam] = [currentParam,Avg,Std_Dev,min5Sig,plus5Sig]\n",
    "    #Table[currentParam] = pd.append\n",
    "    Stats1.append(pd.DataFrame(Stats))\n",
    "    #Table = pd.DataFrame(Stats)\n",
    "print(Stats1)\n",
    "#Table.to_csv(r'C:\\Users\\sbharadwaj\\Desktop\\temp\\Stats.csv')\n",
    "#print(PASS_DF['trim gDrive'])#['check cp25rdiv'])\n",
    "#plt.hist(PASS_DF['check gDriveFreq'])\n",
    "#PASS_DF.to_csv(r'C:\\Users\\sbharadwaj\\Desktop\\temp\\PASS_DF.csv')\n",
    "\n",
    "for currentParam in parameters:\n",
    "    Avg = PASS_DF[currentParam].mean()\n",
    "    Std_Dev = PASS_DF[currentParam].std()\n",
    "    min4Sig = Avg - (4*Std_Dev)\n",
    "    plus4Sig = Avg + (4*Std_Dev)\n",
    "    plt.figure()\n",
    "    #Param_Avg = PASS_DF.mean()\n",
    "    #Param_StDev= PASS_DF.std()\n",
    "    #print(Param_Avg)#,Param_StDev)\n",
    "    n,bins, patches = plt.hist(PASS_DF[currentParam],25,facecolor='b',range=(min4Sig,plus4Sig))\n",
    "    plt.suptitle(currentParam)\n",
    "    #print(PASS_DF[currentParam])\n",
    "    #plt.show()\n",
    "    "
   ]
  },
  {
   "cell_type": "code",
   "execution_count": null,
   "metadata": {
    "collapsed": true
   },
   "outputs": [],
   "source": []
  }
 ],
 "metadata": {
  "kernelspec": {
   "display_name": "Python 3",
   "language": "python",
   "name": "python3"
  },
  "language_info": {
   "codemirror_mode": {
    "name": "ipython",
    "version": 3
   },
   "file_extension": ".py",
   "mimetype": "text/x-python",
   "name": "python",
   "nbconvert_exporter": "python",
   "pygments_lexer": "ipython3",
   "version": "3.6.1"
  }
 },
 "nbformat": 4,
 "nbformat_minor": 2
}
