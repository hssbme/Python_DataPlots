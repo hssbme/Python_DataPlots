{
 "cells": [
  {
   "cell_type": "code",
   "execution_count": 1,
   "metadata": {},
   "outputs": [
    {
     "name": "stdout",
     "output_type": "stream",
     "text": [
      "Using matplotlib backend: TkAgg\n"
     ]
    }
   ],
   "source": [
    "#import tensorflow as tf\n",
    "import numpy as np\n",
    "import matplotlib.pyplot as plt\n",
    "import pandas as pd\n",
    "import os\n",
    "import glob\n",
    "import seaborn as sns\n",
    "sns.set(color_codes=True)\n",
    "%matplotlib"
   ]
  },
  {
   "cell_type": "code",
   "execution_count": 2,
   "metadata": {},
   "outputs": [],
   "source": [
    "import numpy as np"
   ]
  },
  {
   "cell_type": "code",
   "execution_count": 3,
   "metadata": {},
   "outputs": [],
   "source": [
    "import glob\n"
   ]
  },
  {
   "cell_type": "code",
   "execution_count": 4,
   "metadata": {},
   "outputs": [],
   "source": [
    "#file_=glob.glob(r'\\\\ussjc-share01\\Engineering\\Product Development\\HAVANA\\A3A2\\AVAR\\*.csv')\n",
    "file_ = glob.glob(r'C:\\Users\\sbharadwaj\\Desktop\\JMP scripts\\ICM40605 FT1 CMOS trim code\\Google Data\\*.csv')\n",
    "#file_=glob.glob(r'\\\\ussjc-share01\\Engineering\\NPI Engineering\\Havana\\A3A2\\Char\\AVAR\\G6G404-Z1\\48units_45degC\\Matlab_output\\BD1\\*.csv')"
   ]
  },
  {
   "cell_type": "code",
   "execution_count": 5,
   "metadata": {},
   "outputs": [],
   "source": [
    "df_data=pd.read_csv(file_[0],skiprows=2,nrows=28800)#000)\n",
    "#df_data=pd.read_csv(file_[0],skiprows=2,nrows=3000000)"
   ]
  },
  {
   "cell_type": "code",
   "execution_count": 6,
   "metadata": {},
   "outputs": [
    {
     "data": {
      "text/html": [
       "<div>\n",
       "<style>\n",
       "    .dataframe thead tr:only-child th {\n",
       "        text-align: right;\n",
       "    }\n",
       "\n",
       "    .dataframe thead th {\n",
       "        text-align: left;\n",
       "    }\n",
       "\n",
       "    .dataframe tbody tr th {\n",
       "        vertical-align: top;\n",
       "    }\n",
       "</style>\n",
       "<table border=\"1\" class=\"dataframe\">\n",
       "  <thead>\n",
       "    <tr style=\"text-align: right;\">\n",
       "      <th></th>\n",
       "      <th>#</th>\n",
       "      <th>AX1</th>\n",
       "      <th>AY1</th>\n",
       "      <th>AZ1</th>\n",
       "      <th>TEMP1</th>\n",
       "      <th>GX1</th>\n",
       "      <th>GY1</th>\n",
       "      <th>GZ1</th>\n",
       "      <th>AX2</th>\n",
       "      <th>AY2</th>\n",
       "      <th>...</th>\n",
       "      <th>GX11</th>\n",
       "      <th>GY11</th>\n",
       "      <th>GZ11</th>\n",
       "      <th>AX12</th>\n",
       "      <th>AY12</th>\n",
       "      <th>AZ12</th>\n",
       "      <th>TEMP12</th>\n",
       "      <th>GX12</th>\n",
       "      <th>GY12</th>\n",
       "      <th>GZ12</th>\n",
       "    </tr>\n",
       "  </thead>\n",
       "  <tbody>\n",
       "    <tr>\n",
       "      <th>0</th>\n",
       "      <td>1</td>\n",
       "      <td>-690</td>\n",
       "      <td>-113</td>\n",
       "      <td>-157</td>\n",
       "      <td>4122</td>\n",
       "      <td>0</td>\n",
       "      <td>-19</td>\n",
       "      <td>13</td>\n",
       "      <td>-980</td>\n",
       "      <td>-117</td>\n",
       "      <td>...</td>\n",
       "      <td>-2</td>\n",
       "      <td>-16</td>\n",
       "      <td>1</td>\n",
       "      <td>-700</td>\n",
       "      <td>-20</td>\n",
       "      <td>-112</td>\n",
       "      <td>4158</td>\n",
       "      <td>1</td>\n",
       "      <td>-18</td>\n",
       "      <td>17</td>\n",
       "    </tr>\n",
       "    <tr>\n",
       "      <th>1</th>\n",
       "      <td>2</td>\n",
       "      <td>-690</td>\n",
       "      <td>-113</td>\n",
       "      <td>-157</td>\n",
       "      <td>4122</td>\n",
       "      <td>0</td>\n",
       "      <td>-19</td>\n",
       "      <td>13</td>\n",
       "      <td>-984</td>\n",
       "      <td>-117</td>\n",
       "      <td>...</td>\n",
       "      <td>-2</td>\n",
       "      <td>-16</td>\n",
       "      <td>1</td>\n",
       "      <td>-700</td>\n",
       "      <td>-20</td>\n",
       "      <td>-112</td>\n",
       "      <td>4158</td>\n",
       "      <td>1</td>\n",
       "      <td>-18</td>\n",
       "      <td>17</td>\n",
       "    </tr>\n",
       "    <tr>\n",
       "      <th>2</th>\n",
       "      <td>3</td>\n",
       "      <td>-690</td>\n",
       "      <td>-113</td>\n",
       "      <td>-157</td>\n",
       "      <td>4122</td>\n",
       "      <td>0</td>\n",
       "      <td>-19</td>\n",
       "      <td>13</td>\n",
       "      <td>-984</td>\n",
       "      <td>-117</td>\n",
       "      <td>...</td>\n",
       "      <td>-1</td>\n",
       "      <td>-15</td>\n",
       "      <td>1</td>\n",
       "      <td>-704</td>\n",
       "      <td>-18</td>\n",
       "      <td>-111</td>\n",
       "      <td>4157</td>\n",
       "      <td>1</td>\n",
       "      <td>-19</td>\n",
       "      <td>16</td>\n",
       "    </tr>\n",
       "    <tr>\n",
       "      <th>3</th>\n",
       "      <td>4</td>\n",
       "      <td>-690</td>\n",
       "      <td>-113</td>\n",
       "      <td>-157</td>\n",
       "      <td>4122</td>\n",
       "      <td>0</td>\n",
       "      <td>-19</td>\n",
       "      <td>13</td>\n",
       "      <td>-984</td>\n",
       "      <td>-117</td>\n",
       "      <td>...</td>\n",
       "      <td>-1</td>\n",
       "      <td>-15</td>\n",
       "      <td>1</td>\n",
       "      <td>-704</td>\n",
       "      <td>-18</td>\n",
       "      <td>-111</td>\n",
       "      <td>4157</td>\n",
       "      <td>1</td>\n",
       "      <td>-19</td>\n",
       "      <td>16</td>\n",
       "    </tr>\n",
       "    <tr>\n",
       "      <th>4</th>\n",
       "      <td>5</td>\n",
       "      <td>-690</td>\n",
       "      <td>-113</td>\n",
       "      <td>-157</td>\n",
       "      <td>4122</td>\n",
       "      <td>0</td>\n",
       "      <td>-19</td>\n",
       "      <td>13</td>\n",
       "      <td>-984</td>\n",
       "      <td>-117</td>\n",
       "      <td>...</td>\n",
       "      <td>-1</td>\n",
       "      <td>-15</td>\n",
       "      <td>1</td>\n",
       "      <td>-704</td>\n",
       "      <td>-18</td>\n",
       "      <td>-111</td>\n",
       "      <td>4157</td>\n",
       "      <td>1</td>\n",
       "      <td>-19</td>\n",
       "      <td>16</td>\n",
       "    </tr>\n",
       "  </tbody>\n",
       "</table>\n",
       "<p>5 rows × 85 columns</p>\n",
       "</div>"
      ],
      "text/plain": [
       "   #  AX1  AY1  AZ1  TEMP1  GX1  GY1  GZ1  AX2  AY2  ...   GX11  GY11  GZ11  \\\n",
       "0  1 -690 -113 -157   4122    0  -19   13 -980 -117  ...     -2   -16     1   \n",
       "1  2 -690 -113 -157   4122    0  -19   13 -984 -117  ...     -2   -16     1   \n",
       "2  3 -690 -113 -157   4122    0  -19   13 -984 -117  ...     -1   -15     1   \n",
       "3  4 -690 -113 -157   4122    0  -19   13 -984 -117  ...     -1   -15     1   \n",
       "4  5 -690 -113 -157   4122    0  -19   13 -984 -117  ...     -1   -15     1   \n",
       "\n",
       "   AX12  AY12  AZ12  TEMP12  GX12  GY12  GZ12  \n",
       "0  -700   -20  -112    4158     1   -18    17  \n",
       "1  -700   -20  -112    4158     1   -18    17  \n",
       "2  -704   -18  -111    4157     1   -19    16  \n",
       "3  -704   -18  -111    4157     1   -19    16  \n",
       "4  -704   -18  -111    4157     1   -19    16  \n",
       "\n",
       "[5 rows x 85 columns]"
      ]
     },
     "execution_count": 6,
     "metadata": {},
     "output_type": "execute_result"
    }
   ],
   "source": [
    "df_data.head()"
   ]
  },
  {
   "cell_type": "code",
   "execution_count": 7,
   "metadata": {},
   "outputs": [],
   "source": [
    "index1=np.arange(0,df_data.shape[0],5)"
   ]
  },
  {
   "cell_type": "code",
   "execution_count": 8,
   "metadata": {},
   "outputs": [
    {
     "data": {
      "text/plain": [
       "(-100, 100)"
      ]
     },
     "execution_count": 8,
     "metadata": {},
     "output_type": "execute_result"
    }
   ],
   "source": [
    "plt.figure()\n",
    "to_plot=['AY'+str(x) for x in range(1,13,1)]\n",
    "plt.plot(index1/1000,df_data[to_plot].values[index1,:]/4.096)\n",
    "plt.xlabel('Time(s)')\n",
    "plt.ylabel('AXoutput(mgee)')\n",
    "plt.ylim([-100,100])"
   ]
  },
  {
   "cell_type": "code",
   "execution_count": 9,
   "metadata": {},
   "outputs": [
    {
     "data": {
      "text/plain": [
       "(-100, 100)"
      ]
     },
     "execution_count": 9,
     "metadata": {},
     "output_type": "execute_result"
    }
   ],
   "source": [
    "plt.figure()\n",
    "to_plot1=['AZ'+str(x) for x in range(1,13,1)]\n",
    "plt.plot(index1/1000,df_data[to_plot1].values[index1,:]/4.096)\n",
    "plt.xlabel('Time(s)')\n",
    "plt.ylabel('AYoutput(mgee)')\n",
    "plt.ylim([-100,100])"
   ]
  },
  {
   "cell_type": "code",
   "execution_count": 10,
   "metadata": {},
   "outputs": [
    {
     "data": {
      "text/plain": [
       "(900, 1100)"
      ]
     },
     "execution_count": 10,
     "metadata": {},
     "output_type": "execute_result"
    }
   ],
   "source": [
    "plt.figure()\n",
    "to_plot=['TEMP'+str(x) for x in range(1,13,1)]\n",
    "plt.plot(index1/1000,df_data[to_plot].values[index1,:]/4.096)\n",
    "plt.xlabel('Time(s)')\n",
    "plt.ylabel('AZoutput(mgee)')\n",
    "plt.ylim([900,1100])"
   ]
  },
  {
   "cell_type": "code",
   "execution_count": 11,
   "metadata": {},
   "outputs": [
    {
     "data": {
      "text/plain": [
       "(-2, 2)"
      ]
     },
     "execution_count": 11,
     "metadata": {},
     "output_type": "execute_result"
    }
   ],
   "source": [
    "plt.figure()\n",
    "to_plot=['GX'+str(x) for x in range(1,13,1)]\n",
    "plt.plot(index1/1000,df_data[to_plot].values[index1,:]/32.767)\n",
    "plt.xlabel('Time(s)')\n",
    "plt.ylabel('GXoffset(dps)')\n",
    "plt.ylim([-2,2])"
   ]
  },
  {
   "cell_type": "code",
   "execution_count": 12,
   "metadata": {},
   "outputs": [
    {
     "data": {
      "text/plain": [
       "(-2, 2)"
      ]
     },
     "execution_count": 12,
     "metadata": {},
     "output_type": "execute_result"
    }
   ],
   "source": [
    "plt.figure()\n",
    "to_plot=['GY'+str(x) for x in range(1,13,1)]\n",
    "plt.plot(index1/1000,df_data[to_plot].values[index1,:]/32.767)\n",
    "plt.xlabel('Time(s)')\n",
    "plt.ylabel('GYoffset(dps)')\n",
    "plt.ylim([-2,2])"
   ]
  },
  {
   "cell_type": "code",
   "execution_count": 14,
   "metadata": {},
   "outputs": [
    {
     "data": {
      "text/plain": [
       "(-2, 2)"
      ]
     },
     "execution_count": 14,
     "metadata": {},
     "output_type": "execute_result"
    }
   ],
   "source": [
    "plt.figure()\n",
    "to_plot=['GZ'+str(x) for x in range(1,13,1)]\n",
    "plt.plot(index1/1000,df_data[to_plot].values[index1,:]/32.767)\n",
    "plt.xlabel('Time(s)')\n",
    "plt.ylabel('GZoffset(dps)')\n",
    "plt.ylim([-2,2])"
   ]
  },
  {
   "cell_type": "code",
   "execution_count": 13,
   "metadata": {},
   "outputs": [
    {
     "data": {
      "text/plain": [
       "(15, 25)"
      ]
     },
     "execution_count": 13,
     "metadata": {},
     "output_type": "execute_result"
    }
   ],
   "source": [
    "plt.figure()\n",
    "to_plot=['AX'+str(x) for x in range(1,13,1)]\n",
    "plt.plot(index1/1000,df_data[to_plot].values[index1,:]*0.008658+25)\n",
    "plt.xlabel('Time(s)')\n",
    "plt.ylabel('Temperature(degC)')\n",
    "plt.ylim([15,25])"
   ]
  },
  {
   "cell_type": "code",
   "execution_count": null,
   "metadata": {
    "collapsed": true
   },
   "outputs": [],
   "source": []
  }
 ],
 "metadata": {
  "kernelspec": {
   "display_name": "Python 3",
   "language": "python",
   "name": "python3"
  },
  "language_info": {
   "codemirror_mode": {
    "name": "ipython",
    "version": 3
   },
   "file_extension": ".py",
   "mimetype": "text/x-python",
   "name": "python",
   "nbconvert_exporter": "python",
   "pygments_lexer": "ipython3",
   "version": "3.6.3"
  }
 },
 "nbformat": 4,
 "nbformat_minor": 2
}
