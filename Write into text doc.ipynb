{
 "cells": [
  {
   "cell_type": "code",
   "execution_count": 32,
   "metadata": {},
   "outputs": [],
   "source": [
    "import os\n",
    "path = \"P:\\BACKUP\\VPE\\Shreyas\\Tools\\SLTII_2.3.8.412\\OX13B10\\DCBLC_OTP\\settings\"\n",
    "ratioHex = ()\n",
    "\n",
    "ratioHex = ('73','75','78','7A','7D','80','82','85','87','8A','8C')\n",
    "x = 90\n",
    "#for x in range (90,110,2):\n",
    "for y in ratioHex:\n",
    "    file = open(path+'\\\\'+'ratio_%s.txt'% x,'w')\n",
    "    #print(type(file))\n",
    "    file.write('6c 4001 2b; Enable DC BLC \\n')\n",
    "    file.write('6c 4000 f9 ; [0] BLC always update\\n\\n')\n",
    "\n",
    "    file.write('6c 4034 00\\n')\n",
    "    file.write('6c 4035 %s\\n'% y)\n",
    "    file.write('6c 4036 00\\n')\n",
    "    file.write('6c 4037 %s\\n' % y)\n",
    "    file.write('6c 4038 00\\n')\n",
    "    file.write('6c 4039 80\\n')\n",
    "    file.write('6c 403a 00\\n')\n",
    "    file.write('6c 403b 80\\n\\n')\n",
    "\n",
    "    file.write(';Start stream\\n')\n",
    "    file.write('6c 0100 01\\n')\n",
    "\n",
    "    file.close()\n",
    "    x+=2\n",
    "\n",
    "#file = open('')"
   ]
  },
  {
   "cell_type": "code",
   "execution_count": null,
   "metadata": {},
   "outputs": [],
   "source": []
  }
 ],
 "metadata": {
  "kernelspec": {
   "display_name": "Python 3",
   "language": "python",
   "name": "python3"
  },
  "language_info": {
   "codemirror_mode": {
    "name": "ipython",
    "version": 3
   },
   "file_extension": ".py",
   "mimetype": "text/x-python",
   "name": "python",
   "nbconvert_exporter": "python",
   "pygments_lexer": "ipython3",
   "version": "3.6.4"
  }
 },
 "nbformat": 4,
 "nbformat_minor": 2
}
